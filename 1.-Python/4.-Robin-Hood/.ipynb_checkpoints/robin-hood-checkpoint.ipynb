{
 "cells": [
  {
   "cell_type": "markdown",
   "metadata": {},
   "source": [
    "<img src=\"https://bit.ly/2VnXWr2\" width=\"100\" align=\"left\"/>"
   ]
  },
  {
   "cell_type": "markdown",
   "metadata": {},
   "source": [
    "# Robin Hood\n",
    "Robin Hood has entered a competition to win the archery contest in Sherwood. With his bow and arrows, he needs to shoot on a target and try to hit as close as possible to the center.\n",
    "\n",
    "![](images/arrows.jpg)\n",
    "\n",
    "## Context\n",
    "In this challenge, the landing position of arrows shot by archers in the competition will be represented using 2-dimensional coordinates. \n",
    "\n",
    "In the 2-dimensional space, a point can be defined by a pair of values that correspond to the horizontal coordinate (x) and the vertical coordinate (y). For example, in our case, an arrow that hits the center of the archery target will land in position (0, 0) on the coordinate axes. \n",
    "\n",
    "The space can be divided into 4 zones (quadrants): Q1, Q2, Q3, Q4. If a point is in Q1, both its x coordinate and y coordinate are positive. Any point with a null x or y coordinate is considered to not belong to any quadrant. \n",
    "\n",
    "If you want to know more about the cartesian coordinate system, you can check this [link](https://en.wikipedia.org/wiki/Cartesian_coordinate_system). \n",
    "\n",
    "## Tools\n",
    "You don't necessarily need to use all the tools. Maybe you opt to use some of them or completely different ones, they are given to help you shape the exercise. Programming exercises can be solved in many different ways.\n",
    "* Data structures: **lists, sets, tuples**\n",
    "* Conditional statements: **if-elif-else**\n",
    "* Loop: **while/for**\n",
    "* Minimum (optional sorting)\n",
    "\n",
    "## Tasks\n",
    "Robin Hood has hit the following points:"
   ]
  },
  {
   "cell_type": "code",
   "execution_count": 9,
   "metadata": {},
   "outputs": [],
   "source": [
    "points = [(4, 5), (-0, 2), (4, 7), (1, -3), (3, -2), (4, 5), (3, 2), (5, 7), (-5, 7), (2, 2), (-4, 5), (0, -2),\n",
    "          (-4, 7), (-1, 3), (-3, 2), (-4, -5), (-3, 2), (5, 7), (5, 7), (2, 2), (9, 9), (-8, -9)]"
   ]
  },
  {
   "cell_type": "markdown",
   "metadata": {},
   "source": [
    "#### 1. Robin Hood is famous for hitting an arrow with another arrow. Find the coordinates of the points where an arrow hits another arrow."
   ]
  },
  {
   "cell_type": "code",
   "execution_count": 10,
   "metadata": {},
   "outputs": [
    {
     "name": "stdout",
     "output_type": "stream",
     "text": [
      "Duplicate points:\n",
      "(4, 5)\n",
      "(5, 7)\n",
      "(5, 7)\n",
      "(2, 2)\n",
      "(-3, 2)\n",
      "(5, 7)\n"
     ]
    }
   ],
   "source": [
    "print(\"Duplicate points:\")\n",
    "for i in range(0,len(points)):\n",
    "    for j in range(i+1, len(points)):\n",
    "        if(points[i]==points[j]):\n",
    "            print(points[j]);\n",
    "            "
   ]
  },
  {
   "cell_type": "markdown",
   "metadata": {},
   "source": [
    "#### 2. Calculate how many arrows have fallen in each quadrant. \n",
    "**Note**: the arrows that fall in the axis (x=0 or y=0) don't belong to any quadrant."
   ]
  },
  {
   "cell_type": "code",
   "execution_count": 11,
   "metadata": {},
   "outputs": [
    {
     "name": "stdout",
     "output_type": "stream",
     "text": [
      "Total arrows: 22\n",
      "In Quadrant 1: 10\n",
      "In Quadrant 2: 6\n",
      "In Quadrant 3: 2\n",
      "In Quadrant 4: 2\n",
      "Any Quadrants: 2\n"
     ]
    }
   ],
   "source": [
    "print(\"Total arrows:\",len(points))\n",
    "q1=0\n",
    "q2=0\n",
    "q3=0\n",
    "q4=0\n",
    "any_quadrant=0\n",
    "\n",
    "for (x,y) in points:\n",
    "    if (x>0 and y>0):\n",
    "        q1+=1\n",
    "    elif (x<0 and y>0):\n",
    "        q2+=1\n",
    "    elif (x<0 and y<0):\n",
    "        q3+=1\n",
    "    elif (x>0 and y<0):\n",
    "        q4+=1\n",
    "    elif (x==abs(0) or y==abs(0)):\n",
    "        any_quadrant+=1\n",
    "else:\n",
    "    print(\"In Quadrant 1:\",q1)\n",
    "    print(\"In Quadrant 2:\",q2)\n",
    "    print(\"In Quadrant 3:\",q3)\n",
    "    print(\"In Quadrant 4:\",q4)\n",
    "    print(\"Any Quadrants:\",any_quadrant)"
   ]
  },
  {
   "cell_type": "markdown",
   "metadata": {},
   "source": [
    "#### 3. Find the point closest to the center. Calculate its distance to the center. \n",
    "Take into account that there might be more than one point at the minimum distance to the center.\n",
    "\n",
    "**Hint**: Use the Euclidean distance. You can find more information about it [here](https://en.wikipedia.org/wiki/Euclidean_distance).  \n",
    "**Hint**: Defining a function that calculates the distance to the center can help."
   ]
  },
  {
   "cell_type": "code",
   "execution_count": 13,
   "metadata": {},
   "outputs": [
    {
     "name": "stdout",
     "output_type": "stream",
     "text": [
      "The closest point are: (0, 2)\n"
     ]
    }
   ],
   "source": [
    "from math import sqrt\n",
    "\n",
    "def euqli_dist(p, q, squared=False):\n",
    "    if squared:\n",
    "        return ((p[0] - q[0]) ** 2) + ((p[1] - q[1]) ** 2)\n",
    "    else:\n",
    "        return sqrt(((p[0] - q[0]) ** 2) + ((p[1] - q[1]) ** 2))\n",
    "\n",
    "def closest(origin, points):\n",
    "    low_dist = float('inf')\n",
    "    closest_pos = 0\n",
    "    for x in points:\n",
    "        dist = euqli_dist(origin,x)\n",
    "        if dist < low_dist:\n",
    "            low_dist = dist\n",
    "            closest_pos = x\n",
    "    return closest_pos\n",
    "point_closest=closest((0, 0), {(4, 5), (-0, 2), (4, 7), (1, -3), (3, -2), (4, 5), (3, 2), (5, 7), (-5, 7), (2, 2), (-4, 5), (0, -2),\n",
    "          (-4, 7), (-1, 3), (-3, 2), (-4, -5), (-3, 2), (5, 7), (5, 7), (2, 2), (9, 9), (-8, -9)})\n",
    "print(\"The closest point are:\",point_closest)"
   ]
  },
  {
   "cell_type": "code",
   "execution_count": 5,
   "metadata": {},
   "outputs": [
    {
     "name": "stdout",
     "output_type": "stream",
     "text": [
      "[6.4031242374328485, 2.0, 8.06225774829855, 3.1622776601683795, 3.605551275463989, 6.4031242374328485, 3.605551275463989, 8.602325267042627, 8.602325267042627, 2.8284271247461903, 6.4031242374328485, 2.0, 8.06225774829855, 3.1622776601683795, 3.605551275463989, 6.4031242374328485, 3.605551275463989, 8.602325267042627, 8.602325267042627, 2.8284271247461903, 12.727922061357855, 12.041594578792296]\n",
      "Distance to closest point= 2.0\n"
     ]
    }
   ],
   "source": [
    "import math\n",
    "distance_points=[]\n",
    "\n",
    "def euclidean_distance (points):\n",
    "    return math.sqrt((x**2+y**2))\n",
    "\n",
    "for (x,y) in (points): \n",
    "    distance=euclidean_distance(points)\n",
    "    distance_points.append(distance)\n",
    "\n",
    "print(distance_points)    \n",
    "print(\"Distance to closest point=\",distance_points[1])"
   ]
  },
  {
   "cell_type": "markdown",
   "metadata": {},
   "source": [
    "#### 4. If the archery target has a radius of 9, calculate the number of arrows that won't hit the target. \n",
    "**Hint**: Use the function created in step 3. "
   ]
  },
  {
   "cell_type": "code",
   "execution_count": 6,
   "metadata": {},
   "outputs": [
    {
     "name": "stdout",
     "output_type": "stream",
     "text": [
      "Arrows out of R=9: (-8, -9)\n"
     ]
    }
   ],
   "source": [
    "from math import sqrt\n",
    "def euqli_dist(p, q, squared=False):\n",
    "    if squared:\n",
    "        return ((p[0] - q[0]) ** 2) + ((p[1] - q[1]) ** 2)\n",
    "    else:\n",
    "        return sqrt(((p[0] - q[0]) ** 2) + ((p[1] - q[1]) ** 2))\n",
    "\n",
    "def closest(origin, points):\n",
    "    distance_points= 9\n",
    "    closest_pos = 0\n",
    "    for x in points:\n",
    "        dist = euqli_dist(origin,x)\n",
    "        if dist > distance_points:\n",
    "            closest_pos = x\n",
    "    return closest_pos\n",
    "\n",
    "print(\"Arrows out of R=9:\",closest((0, 0), {(4, 5), (-0, 2), (4, 7), (1, -3), (3, -2), (4, 5), (3, 2), (5, 7), (-5, 7), (2, 2), (-4, 5), (0, -2),\n",
    "          (-4, 7), (-1, 3), (-3, 2), (-4, -5), (-3, 2), (5, 7), (5, 7), (2, 2), (9, 9), (-8, -9)}))"
   ]
  },
  {
   "cell_type": "code",
   "execution_count": null,
   "metadata": {},
   "outputs": [],
   "source": []
  }
 ],
 "metadata": {
  "kernelspec": {
   "display_name": "Python 3",
   "language": "python",
   "name": "python3"
  },
  "language_info": {
   "codemirror_mode": {
    "name": "ipython",
    "version": 3
   },
   "file_extension": ".py",
   "mimetype": "text/x-python",
   "name": "python",
   "nbconvert_exporter": "python",
   "pygments_lexer": "ipython3",
   "version": "3.8.5"
  }
 },
 "nbformat": 4,
 "nbformat_minor": 2
}

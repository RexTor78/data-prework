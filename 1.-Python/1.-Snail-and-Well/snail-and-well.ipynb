{
 "cells": [
  {
   "cell_type": "markdown",
   "metadata": {},
   "source": [
    "<img src=\"https://bit.ly/2VnXWr2\" width=\"100\" align=\"left\">"
   ]
  },
  {
   "cell_type": "markdown",
   "metadata": {},
   "source": [
    "# The Snail and the Well\n",
    "\n",
    "A snail falls at the bottom of a 125 cm well. Each day the snail rises 30 cm. But at night, while sleeping, slides 20 cm because the walls are wet. How many days does it take for the snail to escape the well?\n",
    "\n",
    "**Hint**: The snail gets out of the well when it surpasses the 125cm of height.\n",
    "\n",
    "## Tools\n",
    "\n",
    "1. Loop: **while**\n",
    "2. Conditional statements: **if-else**\n",
    "3. Function: **print()**\n",
    "\n",
    "## Tasks\n",
    "\n",
    "#### 1. Assign the challenge data to variables with representative names: `well_height`, `daily_distance`, `nightly_distance` and `snail_position`."
   ]
  },
  {
   "cell_type": "code",
   "execution_count": 12,
   "metadata": {},
   "outputs": [],
   "source": [
    "well_height=125\n",
    "daily_distance=30\n",
    "nightly_distance=20\n",
    "\n"
   ]
  },
  {
   "cell_type": "markdown",
   "metadata": {},
   "source": [
    "# 2. Create a variable `days` to keep count of the days that pass until the snail escapes the well. "
   ]
  },
  {
   "cell_type": "code",
   "execution_count": 13,
   "metadata": {},
   "outputs": [
    {
     "name": "stdout",
     "output_type": "stream",
     "text": [
      "Snail in well\n"
     ]
    }
   ],
   "source": [
    "day=0\n",
    "snail_position=day*(daily_distance-nightly_distance)\n",
    "print(\"Snail in well\")\n",
    "\n",
    "\n",
    "\n",
    "                \n",
    "\n",
    "\n"
   ]
  },
  {
   "cell_type": "markdown",
   "metadata": {},
   "source": [
    "#### 3. Find the solution to the challenge using the variables defined above. "
   ]
  },
  {
   "cell_type": "code",
   "execution_count": 14,
   "metadata": {},
   "outputs": [
    {
     "name": "stdout",
     "output_type": "stream",
     "text": [
      "Snail in well\n",
      "Snail in well\n",
      "Snail in well\n",
      "Snail in well\n",
      "Snail in well\n",
      "Snail in well\n",
      "Snail in well\n",
      "Snail in well\n",
      "Snail in well\n",
      "Snail in well\n",
      "Snail in well\n",
      "Snail in well\n",
      "Snail in well\n",
      "130\n"
     ]
    }
   ],
   "source": [
    "if snail_position < well_height:\n",
    "    day+=day+1\n",
    "\n",
    "while snail_position < well_height:\n",
    "    print(\"Snail in well\")\n",
    "    snail_position+=day*(daily_distance-nightly_distance)\n",
    "else:\n",
    "    total=snail_position/(daily_distance-nightly_distance)\n",
    "    print(snail_position)"
   ]
  },
  {
   "cell_type": "markdown",
   "metadata": {},
   "source": [
    "#### 4. Print the solution."
   ]
  },
  {
   "cell_type": "code",
   "execution_count": 15,
   "metadata": {},
   "outputs": [
    {
     "name": "stdout",
     "output_type": "stream",
     "text": [
      "Total_days: 13\n"
     ]
    }
   ],
   "source": [
    " print(\"Total_days:\",+int(total))\n",
    "\n"
   ]
  },
  {
   "cell_type": "markdown",
   "metadata": {},
   "source": [
    "## Bonus\n",
    "The distance traveled by the snail each day is now defined by a list.\n",
    "```\n",
    "advance_cm = [30, 21, 33, 77, 44, 45, 23, 45, 12, 34, 55]\n",
    "```\n",
    "On the first day, the snail rises 30cm but during the night it slides 20cm. On the second day, the snail rises 21cm but during the night it slides 20cm, and so on. \n",
    "\n",
    "#### 1. How many days does it take for the snail to escape the well?\n",
    "Follow the same guidelines as in the previous challenge.\n",
    "\n",
    "**Hint**: Remember that the snail gets out of the well when it surpasses the 125cm of height."
   ]
  },
  {
   "cell_type": "code",
   "execution_count": 16,
   "metadata": {},
   "outputs": [
    {
     "name": "stdout",
     "output_type": "stream",
     "text": [
      "Total_days to get out the well: 5\n",
      "150\n"
     ]
    }
   ],
   "source": [
    "well_height=125\n",
    "daily_distance=30\n",
    "nightly_distance=-20\n",
    "advance_cm = [30, 21, 33, 77, 44, 45, 23, 45, 12, 34, 55]\n",
    "total_advance=0\n",
    "days=0\n",
    "while total_advance<well_height:\n",
    "    total_advance+=advance_cm[(days)]\n",
    "    if total_advance> well_height:\n",
    "        break\n",
    "    days+=1\n",
    "    total_advance+=nightly_distance\n",
    "    if total_advance>well_height:\n",
    "        break\n",
    "    \n",
    "        \n",
    "print(\"Total_days to get out the well:\",days)\n",
    "print(total_advance)"
   ]
  },
  {
   "cell_type": "markdown",
   "metadata": {},
   "source": [
    "#### 2. What is its maximum displacement in one day? And its minimum? Calculate the displacement using only the travel distance of the days used to get out of the well. \n",
    "**Hint**: Remember that displacement means the total distance risen taking into account that the snail slides at night.  "
   ]
  },
  {
   "cell_type": "code",
   "execution_count": 17,
   "metadata": {},
   "outputs": [
    {
     "name": "stdout",
     "output_type": "stream",
     "text": [
      "Max. distance in day= 77\n",
      "Min. distance in day= 21\n"
     ]
    }
   ],
   "source": [
    "print(\"Max. distance in day=\",max(advance_cm[0:(int(days))]))\n",
    "print(\"Min. distance in day=\",min( advance_cm[0:(int(days))]))"
   ]
  },
  {
   "cell_type": "markdown",
   "metadata": {},
   "source": [
    "#### 3. What is its average progress? Take into account the snail slides at night."
   ]
  },
  {
   "cell_type": "code",
   "execution_count": 18,
   "metadata": {},
   "outputs": [
    {
     "name": "stdout",
     "output_type": "stream",
     "text": [
      "Average distance in day to out the Well= 17.0\n"
     ]
    }
   ],
   "source": [
    "average=(sum(advance_cm[0:(int(days))])+nightly_distance*6)/len(advance_cm[0:(int(days))])\n",
    "print(\"Average distance in day to out the Well=\",average)"
   ]
  },
  {
   "cell_type": "markdown",
   "metadata": {},
   "source": [
    "#### 4. What is the standard deviation of its displacement? Take into account the snail slides at night."
   ]
  },
  {
   "cell_type": "code",
   "execution_count": 19,
   "metadata": {},
   "outputs": [
    {
     "name": "stdout",
     "output_type": "stream",
     "text": [
      "Standard Deviation of distances to get out the Well is: 21.737065119284157 \n"
     ]
    }
   ],
   "source": [
    "import statistics\n",
    "statistics.mean(advance_cm[0:(int(days))])\n",
    "print(\"Standard Deviation of distances to get out the Well is: % s \"%(statistics.stdev(advance_cm[0:(int(days))])))"
   ]
  },
  {
   "cell_type": "code",
   "execution_count": null,
   "metadata": {},
   "outputs": [],
   "source": []
  },
  {
   "cell_type": "code",
   "execution_count": null,
   "metadata": {},
   "outputs": [],
   "source": []
  }
 ],
 "metadata": {
  "kernelspec": {
   "display_name": "Python 3",
   "language": "python",
   "name": "python3"
  },
  "language_info": {
   "codemirror_mode": {
    "name": "ipython",
    "version": 3
   },
   "file_extension": ".py",
   "mimetype": "text/x-python",
   "name": "python",
   "nbconvert_exporter": "python",
   "pygments_lexer": "ipython3",
   "version": "3.8.5"
  }
 },
 "nbformat": 4,
 "nbformat_minor": 2
}
